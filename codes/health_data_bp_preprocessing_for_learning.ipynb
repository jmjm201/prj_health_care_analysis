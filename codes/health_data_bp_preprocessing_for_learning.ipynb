{
 "cells": [
  {
   "cell_type": "code",
   "execution_count": 1,
   "metadata": {},
   "outputs": [],
   "source": [
    "import pandas as pd"
   ]
  },
  {
   "cell_type": "code",
   "execution_count": null,
   "metadata": {},
   "outputs": [],
   "source": [
    "# health data에서 필요한 컬럼들 추출\n",
    "# 각 사람 별로 분리\n",
    "# 컨캣\n",
    "# 학습"
   ]
  },
  {
   "cell_type": "code",
   "execution_count": 17,
   "metadata": {},
   "outputs": [],
   "source": [
    "for i in range(0, 75):\n",
    "    df = pd.read_csv('../datasets/bp/M{}.csv'.format(i), index_col=0)\n",
    "    df.reset_index(inplace=True)\n",
    "    df['일련번호'] = 'M{}'.format(i)\n",
    "    df.rename(columns= {'M{} 수축기혈압'.format(i):'수축기혈압'}, inplace= True)\n",
    "    df = df[['일련번호','검진 시 연령','수축기혈압']]\n",
    "    df.to_csv('../datasets/bp/M{}.csv'.format(i))"
   ]
  },
  {
   "cell_type": "code",
   "execution_count": 18,
   "metadata": {},
   "outputs": [],
   "source": [
    "for i in range(0, 31):\n",
    "    df = pd.read_csv('../datasets/bp/F{}.csv'.format(i), index_col=0)\n",
    "    df.reset_index(inplace=True)\n",
    "    df['일련번호'] = 'F{}'.format(i)\n",
    "    df.rename(columns= {'F{} 수축기혈압'.format(i):'수축기혈압'}, inplace= True)\n",
    "    df = df[['일련번호','검진 시 연령','수축기혈압']]\n",
    "    df.to_csv('../datasets/bp/F{}.csv'.format(i))"
   ]
  },
  {
   "cell_type": "code",
   "execution_count": 21,
   "metadata": {},
   "outputs": [],
   "source": [
    "male = pd.read_csv('../datasets/bp/M0.csv', index_col= 0)\n",
    "for i in range(1, 75):\n",
    "    data = pd.read_csv('../datasets/bp/M{}.csv'.format(i), index_col=0)\n",
    "    male = pd.concat([male, data], axis= 'rows')"
   ]
  },
  {
   "cell_type": "code",
   "execution_count": 22,
   "metadata": {},
   "outputs": [],
   "source": [
    "female = pd.read_csv('../datasets/bp/F0.csv', index_col= 0)\n",
    "for i in range(1, 31):\n",
    "    data = pd.read_csv('../datasets/bp/F{}.csv'.format(i), index_col=0)\n",
    "    female = pd.concat([female, data], axis= 'rows')"
   ]
  },
  {
   "cell_type": "code",
   "execution_count": 25,
   "metadata": {},
   "outputs": [],
   "source": [
    "total = pd.concat([male, female], axis= 'rows')"
   ]
  },
  {
   "cell_type": "code",
   "execution_count": 27,
   "metadata": {},
   "outputs": [],
   "source": [
    "total.to_csv('../datasets/bp/total.csv')"
   ]
  }
 ],
 "metadata": {
  "kernelspec": {
   "display_name": "Python 3",
   "language": "python",
   "name": "python3"
  },
  "language_info": {
   "codemirror_mode": {
    "name": "ipython",
    "version": 3
   },
   "file_extension": ".py",
   "mimetype": "text/x-python",
   "name": "python",
   "nbconvert_exporter": "python",
   "pygments_lexer": "ipython3",
   "version": "3.7.7"
  }
 },
 "nbformat": 4,
 "nbformat_minor": 4
}
