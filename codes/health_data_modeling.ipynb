{
 "cells": [
  {
   "cell_type": "code",
   "execution_count": 1,
   "metadata": {},
   "outputs": [
    {
     "name": "stderr",
     "output_type": "stream",
     "text": [
      "Using TensorFlow backend.\n"
     ]
    }
   ],
   "source": [
    "import pandas as pd\n",
    "import numpy as np\n",
    "import matplotlib.pyplot as plt\n",
    "import datetime\n",
    "import keras\n",
    "from tensorflow.keras.models import Sequential\n",
    "from tensorflow.keras.layers import *\n",
    "from tensorflow.keras.optimizers import Adam\n",
    "from sklearn.preprocessing import MinMaxScaler\n",
    "from sklearn.model_selection import train_test_split"
   ]
  },
  {
   "cell_type": "code",
   "execution_count": 2,
   "metadata": {},
   "outputs": [
    {
     "name": "stdout",
     "output_type": "stream",
     "text": [
      "<class 'pandas.core.frame.DataFrame'>\n",
      "RangeIndex: 1068 entries, 0 to 1067\n",
      "Data columns (total 28 columns):\n",
      " #   Column   Non-Null Count  Dtype  \n",
      "---  ------   --------------  -----  \n",
      " 0   고유값      1068 non-null   object \n",
      " 1   성별       1068 non-null   object \n",
      " 2   생년       1068 non-null   int64  \n",
      " 3   검진년도     1068 non-null   int64  \n",
      " 4   검진 시 연령  1068 non-null   int64  \n",
      " 5   키        1068 non-null   float64\n",
      " 6   체중       1068 non-null   float64\n",
      " 7   허리둘레     1067 non-null   float64\n",
      " 8   BMI      1068 non-null   float64\n",
      " 9   시력(좌)    1068 non-null   float64\n",
      " 10  시력(우)    1068 non-null   float64\n",
      " 11  청력(좌)    1068 non-null   object \n",
      " 12  청력(우)    1068 non-null   object \n",
      " 13  수축기혈압    1068 non-null   int64  \n",
      " 14  이완기혈압    1068 non-null   int64  \n",
      " 15  요단백      1066 non-null   object \n",
      " 16  헤모글로빈    1068 non-null   float64\n",
      " 17  공복혈당     1068 non-null   int64  \n",
      " 18  총콜레스테롤   902 non-null    float64\n",
      " 19  HDL      900 non-null    float64\n",
      " 20  중성지방     900 non-null    float64\n",
      " 21  LDL      878 non-null    float64\n",
      " 22  혈청크레아티닌  1068 non-null   float64\n",
      " 23  신사구체여과율  1068 non-null   int64  \n",
      " 24  AST      1068 non-null   int64  \n",
      " 25  ALT      1058 non-null   float64\n",
      " 26  GTP      1068 non-null   int64  \n",
      " 27  폐결핵흉부질환  1068 non-null   object \n",
      "dtypes: float64(13), int64(9), object(6)\n",
      "memory usage: 233.8+ KB\n",
      "None\n"
     ]
    }
   ],
   "source": [
    "df = pd.read_excel('./datasets/health_data.xlsx', header = 0)\n",
    "print(df.info())"
   ]
  },
  {
   "cell_type": "code",
   "execution_count": 3,
   "metadata": {},
   "outputs": [
    {
     "name": "stdout",
     "output_type": "stream",
     "text": [
      "<class 'pandas.core.frame.DataFrame'>\n",
      "Int64Index: 868 entries, 1 to 1067\n",
      "Data columns (total 28 columns):\n",
      " #   Column   Non-Null Count  Dtype  \n",
      "---  ------   --------------  -----  \n",
      " 0   고유값      868 non-null    object \n",
      " 1   성별       868 non-null    object \n",
      " 2   생년       868 non-null    int64  \n",
      " 3   검진년도     868 non-null    int64  \n",
      " 4   검진 시 연령  868 non-null    int64  \n",
      " 5   키        868 non-null    float64\n",
      " 6   체중       868 non-null    float64\n",
      " 7   허리둘레     868 non-null    float64\n",
      " 8   BMI      868 non-null    float64\n",
      " 9   시력(좌)    868 non-null    float64\n",
      " 10  시력(우)    868 non-null    float64\n",
      " 11  청력(좌)    868 non-null    object \n",
      " 12  청력(우)    868 non-null    object \n",
      " 13  수축기혈압    868 non-null    int64  \n",
      " 14  이완기혈압    868 non-null    int64  \n",
      " 15  요단백      868 non-null    object \n",
      " 16  헤모글로빈    868 non-null    float64\n",
      " 17  공복혈당     868 non-null    int64  \n",
      " 18  총콜레스테롤   868 non-null    float64\n",
      " 19  HDL      868 non-null    float64\n",
      " 20  중성지방     868 non-null    float64\n",
      " 21  LDL      868 non-null    float64\n",
      " 22  혈청크레아티닌  868 non-null    float64\n",
      " 23  신사구체여과율  868 non-null    int64  \n",
      " 24  AST      868 non-null    int64  \n",
      " 25  ALT      868 non-null    float64\n",
      " 26  GTP      868 non-null    int64  \n",
      " 27  폐결핵흉부질환  868 non-null    object \n",
      "dtypes: float64(13), int64(9), object(6)\n",
      "memory usage: 196.7+ KB\n"
     ]
    }
   ],
   "source": [
    "raw_data= df.dropna(axis=0)\n",
    "raw_data.info()"
   ]
  },
  {
   "cell_type": "code",
   "execution_count": 4,
   "metadata": {},
   "outputs": [],
   "source": [
    "#df['검진 시 연령']"
   ]
  },
  {
   "cell_type": "code",
   "execution_count": 5,
   "metadata": {},
   "outputs": [],
   "source": [
    "#df.groupby(['검진 시 연령']).size()"
   ]
  },
  {
   "cell_type": "code",
   "execution_count": 6,
   "metadata": {},
   "outputs": [
    {
     "name": "stdout",
     "output_type": "stream",
     "text": [
      "     체중  허리둘레   BMI  수축기혈압  이완기혈압\n",
      "1  75.0  83.0  22.8    132     75\n",
      "2  75.0  89.0  23.4    129     85\n",
      "3  76.0  83.0  23.6    134     81\n",
      "4  75.0  78.0  23.1    124     78\n",
      "5  73.0  82.0  22.5    120     70\n",
      "        체중  허리둘레   BMI  수축기혈압  이완기혈압\n",
      "1061  66.0  83.0  24.5    110     70\n",
      "1062  68.0  82.0  25.3    130     70\n",
      "1063  69.0  86.0  25.3    118     78\n",
      "1064  70.0  84.0  26.0    120     80\n",
      "1067  70.0  90.0  25.7    110     70\n",
      "<class 'pandas.core.frame.DataFrame'>\n",
      "Int64Index: 868 entries, 1 to 1067\n",
      "Data columns (total 5 columns):\n",
      " #   Column  Non-Null Count  Dtype  \n",
      "---  ------  --------------  -----  \n",
      " 0   체중      868 non-null    float64\n",
      " 1   허리둘레    868 non-null    float64\n",
      " 2   BMI     868 non-null    float64\n",
      " 3   수축기혈압   868 non-null    int64  \n",
      " 4   이완기혈압   868 non-null    int64  \n",
      "dtypes: float64(3), int64(2)\n",
      "memory usage: 40.7 KB\n",
      "None\n",
      "(868, 5)\n"
     ]
    }
   ],
   "source": [
    "data = raw_data[['체중','허리둘레','BMI','수축기혈압','이완기혈압']]\n",
    "print(data.head())\n",
    "print(data.tail())\n",
    "print(data.info())\n",
    "print(data.shape)"
   ]
  },
  {
   "cell_type": "code",
   "execution_count": 7,
   "metadata": {},
   "outputs": [],
   "source": [
    "# data = raw_data[['체중','허리둘레','BMI','총콜레스테롤','HDL', '중성지방', 'LDL']]\n",
    "# print(data.head())\n",
    "# print(data.tail())\n",
    "# print(data.info())\n",
    "# print(data.shape)"
   ]
  },
  {
   "cell_type": "code",
   "execution_count": 8,
   "metadata": {},
   "outputs": [
    {
     "name": "stdout",
     "output_type": "stream",
     "text": [
      "[[0.45355191 0.43189369 0.29166667 0.525      0.38709677]\n",
      " [0.45355191 0.53156146 0.32291667 0.4875     0.5483871 ]\n",
      " [0.46721311 0.43189369 0.33333333 0.55       0.48387097]\n",
      " [0.45355191 0.34883721 0.30729167 0.425      0.43548387]\n",
      " [0.42622951 0.41528239 0.27604167 0.375      0.30645161]\n",
      " [0.45355191 0.43189369 0.32291667 0.6        0.59677419]]\n",
      "(868, 5)\n"
     ]
    }
   ],
   "source": [
    "minmaxscaler = MinMaxScaler()\n",
    "scaled_data = minmaxscaler.fit_transform(data)\n",
    "print(scaled_data[:6])\n",
    "print(scaled_data.shape)"
   ]
  },
  {
   "cell_type": "code",
   "execution_count": 9,
   "metadata": {},
   "outputs": [
    {
     "name": "stdout",
     "output_type": "stream",
     "text": [
      "[[0.45355191 0.43189369 0.29166667 0.525      0.38709677]\n",
      " [0.45355191 0.53156146 0.32291667 0.4875     0.5483871 ]\n",
      " [0.46721311 0.43189369 0.33333333 0.55       0.48387097]\n",
      " [0.45355191 0.34883721 0.30729167 0.425      0.43548387]\n",
      " [0.42622951 0.41528239 0.27604167 0.375      0.30645161]] -> 0.6000000000000001\n"
     ]
    }
   ],
   "source": [
    "sequence_X = []  # sequence_X, sequence_Y 는 list\n",
    "sequence_Y = []\n",
    "for i in range(0, len(scaled_data)-5):\n",
    "  _x = scaled_data[i:i+5]\n",
    "  _y = scaled_data[i+5][3] # Close만 맞출거니까 [3] 주기\n",
    "  if i is 0:\n",
    "    print(_x, '->', _y)\n",
    "  sequence_X.append(_x)\n",
    "  sequence_Y.append(_y)"
   ]
  },
  {
   "cell_type": "code",
   "execution_count": 10,
   "metadata": {},
   "outputs": [
    {
     "name": "stdout",
     "output_type": "stream",
     "text": [
      "[[0.45355191 0.43189369 0.29166667 0.525      0.38709677]\n",
      " [0.45355191 0.53156146 0.32291667 0.4875     0.5483871 ]\n",
      " [0.46721311 0.43189369 0.33333333 0.55       0.48387097]\n",
      " [0.45355191 0.34883721 0.30729167 0.425      0.43548387]\n",
      " [0.42622951 0.41528239 0.27604167 0.375      0.30645161]]\n",
      "0.6000000000000001\n",
      "(863, 5, 5)\n",
      "(863,)\n"
     ]
    }
   ],
   "source": [
    "#list 타입을 np.array로 변환\n",
    "sequence_X = np.array(sequence_X)\n",
    "sequence_Y = np.array(sequence_Y)\n",
    "print(sequence_X[0])\n",
    "print(sequence_Y[0])\n",
    "print(sequence_X.shape)\n",
    "print(sequence_Y.shape)"
   ]
  },
  {
   "cell_type": "code",
   "execution_count": 11,
   "metadata": {},
   "outputs": [
    {
     "name": "stdout",
     "output_type": "stream",
     "text": [
      "(690, 5, 5)\n",
      "(690,)\n",
      "(173, 5, 5)\n",
      "(173,)\n"
     ]
    }
   ],
   "source": [
    "X_train, X_test, Y_train, Y_test = train_test_split(sequence_X, sequence_Y, test_size=0.2, random_state=77)\n",
    "print(X_train.shape)\n",
    "print(Y_train.shape)\n",
    "print(X_test.shape)\n",
    "print(Y_test.shape)"
   ]
  },
  {
   "cell_type": "code",
   "execution_count": 12,
   "metadata": {},
   "outputs": [
    {
     "name": "stdout",
     "output_type": "stream",
     "text": [
      "Model: \"sequential\"\n",
      "_________________________________________________________________\n",
      "Layer (type)                 Output Shape              Param #   \n",
      "=================================================================\n",
      "lstm (LSTM)                  (None, 5, 128)            68608     \n",
      "_________________________________________________________________\n",
      "lstm_1 (LSTM)                (None, 5, 128)            131584    \n",
      "_________________________________________________________________\n",
      "dropout (Dropout)            (None, 5, 128)            0         \n",
      "_________________________________________________________________\n",
      "lstm_2 (LSTM)                (None, 5, 64)             49408     \n",
      "_________________________________________________________________\n",
      "lstm_3 (LSTM)                (None, 5, 64)             33024     \n",
      "_________________________________________________________________\n",
      "dropout_1 (Dropout)          (None, 5, 64)             0         \n",
      "_________________________________________________________________\n",
      "lstm_4 (LSTM)                (None, 64)                33024     \n",
      "_________________________________________________________________\n",
      "flatten (Flatten)            (None, 64)                0         \n",
      "_________________________________________________________________\n",
      "dense (Dense)                (None, 32)                2080      \n",
      "_________________________________________________________________\n",
      "dense_1 (Dense)              (None, 1)                 33        \n",
      "=================================================================\n",
      "Total params: 317,761\n",
      "Trainable params: 317,761\n",
      "Non-trainable params: 0\n",
      "_________________________________________________________________\n"
     ]
    }
   ],
   "source": [
    "model = Sequential()\n",
    "model.add(LSTM(128, input_shape=(X_train.shape[1], X_train.shape[2]), activation='tanh', return_sequences=True))\n",
    "model.add(LSTM(128, input_shape=(X_train.shape[1], X_train.shape[2]), activation='tanh', return_sequences=True))\n",
    "model.add(Dropout(0.3))\n",
    "model.add(LSTM(64, activation='tanh', return_sequences=True))\n",
    "model.add(LSTM(64, activation='tanh', return_sequences=True))\n",
    "model.add(Dropout(0.3))\n",
    "\n",
    "model.add(LSTM(64, activation='tanh', return_sequences=False))\n",
    "\n",
    "model.add(Flatten())\n",
    "model.add(Dense(32, activation='relu'))\n",
    "model.add(Dense(1))\n",
    "model.compile(loss='mse', optimizer='adam')\n",
    "model.summary()"
   ]
  },
  {
   "cell_type": "code",
   "execution_count": 13,
   "metadata": {},
   "outputs": [
    {
     "name": "stdout",
     "output_type": "stream",
     "text": [
      "Train on 690 samples, validate on 173 samples\n",
      "Epoch 1/500\n",
      "690/690 [==============================] - 7s 10ms/sample - loss: 0.0577 - val_loss: 0.0274\n",
      "Epoch 2/500\n",
      "690/690 [==============================] - 0s 474us/sample - loss: 0.0244 - val_loss: 0.0250\n",
      "Epoch 3/500\n",
      "690/690 [==============================] - 0s 459us/sample - loss: 0.0230 - val_loss: 0.0248\n",
      "Epoch 4/500\n",
      "690/690 [==============================] - 0s 484us/sample - loss: 0.0228 - val_loss: 0.0236\n",
      "Epoch 5/500\n",
      "690/690 [==============================] - 0s 510us/sample - loss: 0.0228 - val_loss: 0.0244\n",
      "Epoch 6/500\n",
      "690/690 [==============================] - 0s 549us/sample - loss: 0.0229 - val_loss: 0.0253\n",
      "Epoch 7/500\n",
      "690/690 [==============================] - 0s 492us/sample - loss: 0.0225 - val_loss: 0.0237\n",
      "Epoch 8/500\n",
      "690/690 [==============================] - 0s 479us/sample - loss: 0.0228 - val_loss: 0.0261\n",
      "Epoch 9/500\n",
      "690/690 [==============================] - 0s 524us/sample - loss: 0.0227 - val_loss: 0.0238\n",
      "Epoch 10/500\n",
      "690/690 [==============================] - 0s 476us/sample - loss: 0.0224 - val_loss: 0.0222\n",
      "Epoch 11/500\n",
      "690/690 [==============================] - 0s 490us/sample - loss: 0.0220 - val_loss: 0.0223\n",
      "Epoch 12/500\n",
      "690/690 [==============================] - 0s 476us/sample - loss: 0.0217 - val_loss: 0.0218\n",
      "Epoch 13/500\n",
      "690/690 [==============================] - 0s 481us/sample - loss: 0.0210 - val_loss: 0.0217\n",
      "Epoch 14/500\n",
      "690/690 [==============================] - 0s 486us/sample - loss: 0.0213 - val_loss: 0.0216\n",
      "Epoch 15/500\n",
      "690/690 [==============================] - 0s 464us/sample - loss: 0.0216 - val_loss: 0.0218\n",
      "Epoch 16/500\n",
      "690/690 [==============================] - 0s 506us/sample - loss: 0.0223 - val_loss: 0.0232\n",
      "Epoch 17/500\n",
      "690/690 [==============================] - 0s 507us/sample - loss: 0.0213 - val_loss: 0.0216\n",
      "Epoch 18/500\n",
      "690/690 [==============================] - 0s 487us/sample - loss: 0.0210 - val_loss: 0.0212\n",
      "Epoch 19/500\n",
      "690/690 [==============================] - 0s 489us/sample - loss: 0.0210 - val_loss: 0.0212\n",
      "Epoch 20/500\n",
      "690/690 [==============================] - 0s 516us/sample - loss: 0.0214 - val_loss: 0.0213\n",
      "Epoch 21/500\n",
      "690/690 [==============================] - 0s 502us/sample - loss: 0.0222 - val_loss: 0.0217\n",
      "Epoch 22/500\n",
      "690/690 [==============================] - 0s 578us/sample - loss: 0.0209 - val_loss: 0.0215\n",
      "Epoch 23/500\n",
      "690/690 [==============================] - 0s 520us/sample - loss: 0.0210 - val_loss: 0.0206\n",
      "Epoch 24/500\n",
      "690/690 [==============================] - 0s 524us/sample - loss: 0.0208 - val_loss: 0.0217\n",
      "Epoch 25/500\n",
      "690/690 [==============================] - 0s 490us/sample - loss: 0.0209 - val_loss: 0.0207\n",
      "Epoch 26/500\n",
      "690/690 [==============================] - 0s 505us/sample - loss: 0.0206 - val_loss: 0.0204\n",
      "Epoch 27/500\n",
      "690/690 [==============================] - 0s 522us/sample - loss: 0.0201 - val_loss: 0.0201\n",
      "Epoch 28/500\n",
      "690/690 [==============================] - 0s 522us/sample - loss: 0.0209 - val_loss: 0.0207\n",
      "Epoch 29/500\n",
      "690/690 [==============================] - 0s 510us/sample - loss: 0.0208 - val_loss: 0.0207\n",
      "Epoch 30/500\n",
      "690/690 [==============================] - 0s 502us/sample - loss: 0.0200 - val_loss: 0.0188\n",
      "Epoch 31/500\n",
      "690/690 [==============================] - 0s 519us/sample - loss: 0.0189 - val_loss: 0.0199\n",
      "Epoch 32/500\n",
      "690/690 [==============================] - 0s 518us/sample - loss: 0.0187 - val_loss: 0.0190\n",
      "Epoch 33/500\n",
      "690/690 [==============================] - 0s 484us/sample - loss: 0.0198 - val_loss: 0.0187\n",
      "Epoch 34/500\n",
      "690/690 [==============================] - 0s 470us/sample - loss: 0.0186 - val_loss: 0.0180\n",
      "Epoch 35/500\n",
      "690/690 [==============================] - 0s 516us/sample - loss: 0.0186 - val_loss: 0.0181\n",
      "Epoch 36/500\n",
      "690/690 [==============================] - 0s 468us/sample - loss: 0.0185 - val_loss: 0.0185\n",
      "Epoch 37/500\n",
      "690/690 [==============================] - 0s 487us/sample - loss: 0.0184 - val_loss: 0.0180\n",
      "Epoch 38/500\n",
      "690/690 [==============================] - 0s 533us/sample - loss: 0.0199 - val_loss: 0.0232\n",
      "Epoch 39/500\n",
      "690/690 [==============================] - 0s 578us/sample - loss: 0.0179 - val_loss: 0.0181\n",
      "Epoch 40/500\n",
      "690/690 [==============================] - 0s 515us/sample - loss: 0.0189 - val_loss: 0.0199\n",
      "Epoch 41/500\n",
      "690/690 [==============================] - 0s 468us/sample - loss: 0.0178 - val_loss: 0.0179\n",
      "Epoch 42/500\n",
      "690/690 [==============================] - 0s 478us/sample - loss: 0.0178 - val_loss: 0.0196\n",
      "Epoch 43/500\n",
      "690/690 [==============================] - 0s 513us/sample - loss: 0.0185 - val_loss: 0.0180\n",
      "Epoch 44/500\n",
      "690/690 [==============================] - 0s 503us/sample - loss: 0.0181 - val_loss: 0.0188\n",
      "Epoch 45/500\n",
      "690/690 [==============================] - 0s 493us/sample - loss: 0.0186 - val_loss: 0.0188\n",
      "Epoch 46/500\n",
      "690/690 [==============================] - 0s 471us/sample - loss: 0.0177 - val_loss: 0.0180\n",
      "Epoch 47/500\n",
      "690/690 [==============================] - 0s 478us/sample - loss: 0.0187 - val_loss: 0.0213\n",
      "Epoch 48/500\n",
      "690/690 [==============================] - 0s 499us/sample - loss: 0.0179 - val_loss: 0.0183\n",
      "Epoch 49/500\n",
      "690/690 [==============================] - 0s 494us/sample - loss: 0.0177 - val_loss: 0.0183\n",
      "Epoch 50/500\n",
      "690/690 [==============================] - 0s 528us/sample - loss: 0.0177 - val_loss: 0.0202\n",
      "Epoch 51/500\n",
      "690/690 [==============================] - 0s 513us/sample - loss: 0.0177 - val_loss: 0.0244\n",
      "Epoch 52/500\n",
      "690/690 [==============================] - 0s 515us/sample - loss: 0.0183 - val_loss: 0.0203\n",
      "Epoch 53/500\n",
      "690/690 [==============================] - 0s 506us/sample - loss: 0.0182 - val_loss: 0.0188\n",
      "Epoch 54/500\n",
      "690/690 [==============================] - 0s 509us/sample - loss: 0.0176 - val_loss: 0.0191\n",
      "Epoch 55/500\n",
      "690/690 [==============================] - 0s 588us/sample - loss: 0.0176 - val_loss: 0.0217\n",
      "Epoch 56/500\n",
      "690/690 [==============================] - 0s 606us/sample - loss: 0.0179 - val_loss: 0.0212\n",
      "Epoch 57/500\n",
      "690/690 [==============================] - 0s 515us/sample - loss: 0.0175 - val_loss: 0.0191\n",
      "Epoch 58/500\n",
      "690/690 [==============================] - 0s 490us/sample - loss: 0.0175 - val_loss: 0.0187\n",
      "Epoch 59/500\n",
      "690/690 [==============================] - 0s 492us/sample - loss: 0.0183 - val_loss: 0.0207\n",
      "Epoch 60/500\n",
      "690/690 [==============================] - 0s 495us/sample - loss: 0.0176 - val_loss: 0.0190\n",
      "Epoch 61/500\n",
      "690/690 [==============================] - 0s 532us/sample - loss: 0.0176 - val_loss: 0.0215\n"
     ]
    }
   ],
   "source": [
    "early_stop = keras.callbacks.EarlyStopping(monitor = 'val_loss', patience= 20)\n",
    "fit_hist = model.fit(X_train, Y_train, epochs=500, validation_data=(X_test, Y_test), shuffle=True, callbacks=[early_stop]) # shuffle=False -> 순서가 있는 data이기 때문에 섞으면 안됨"
   ]
  },
  {
   "cell_type": "code",
   "execution_count": 14,
   "metadata": {},
   "outputs": [
    {
     "data": {
      "image/png": "[encoded data removed]",
      "text/plain": [
       "<Figure size 432x288 with 1 Axes>"
      ]
     },
     "metadata": {
      "needs_background": "light"
     },
     "output_type": "display_data"
    }
   ],
   "source": [
    "plt.plot(fit_hist.history['loss'])\n",
    "plt.plot(fit_hist.history['val_loss'])\n",
    "plt.show()"
   ]
  },
  {
   "cell_type": "code",
   "execution_count": 15,
   "metadata": {},
   "outputs": [],
   "source": [
    "predict = model.predict(X_test)"
   ]
  },
  {
   "cell_type": "code",
   "execution_count": 16,
   "metadata": {},
   "outputs": [
    {
     "data": {
      "image/png": "[encoded data removed]",
      "text/plain": [
       "<Figure size 432x288 with 1 Axes>"
      ]
     },
     "metadata": {
      "needs_background": "light"
     },
     "output_type": "display_data"
    }
   ],
   "source": [
    "plt.plot(Y_test[-50:], label='actual')\n",
    "plt.plot(predict[-50:], label='predict')\n",
    "plt.legend()\n",
    "plt.show()"
   ]
  },
  {
   "cell_type": "code",
   "execution_count": null,
   "metadata": {},
   "outputs": [],
   "source": []
  }
 ],
 "metadata": {
  "kernelspec": {
   "display_name": "Python 3",
   "language": "python",
   "name": "python3"
  },
  "language_info": {
   "codemirror_mode": {
    "name": "ipython",
    "version": 3
   },
   "file_extension": ".py",
   "mimetype": "text/x-python",
   "name": "python",
   "nbconvert_exporter": "python",
   "pygments_lexer": "ipython3",
   "version": "3.7.7"
  }
 },
 "nbformat": 4,
 "nbformat_minor": 4
}
