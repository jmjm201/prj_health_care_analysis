{
 "cells": [
  {
   "cell_type": "code",
   "execution_count": 1285,
   "metadata": {},
   "outputs": [],
   "source": [
    "import pandas as pd\n",
    "import numpy as np\n",
    "import matplotlib.pyplot as plt\n",
    "import datetime\n",
    "from tensorflow.keras.models import Sequential\n",
    "from tensorflow.keras.layers import *\n",
    "from tensorflow.keras.optimizers import Adam\n",
    "import keras\n",
    "from tensorflow.keras.layers import *"
   ]
  },
  {
   "cell_type": "code",
   "execution_count": 1286,
   "metadata": {},
   "outputs": [],
   "source": [
    "prep_male = pd.read_excel('../datasets/prep_male.xlsx', index_col=0)\n",
    "prep_female = pd.read_excel('../datasets/prep_female.xlsx', index_col=0)"
   ]
  },
  {
   "cell_type": "code",
   "execution_count": 1287,
   "metadata": {},
   "outputs": [
    {
     "data": {
      "text/plain": [
       "Index(['성별', '생년', '검진년도', '검진 시 연령', '키', '체중', '허리둘레', 'BMI', '시력(좌)',\n",
       "       '시력(우)', '청력(좌)', '청력(우)', '수축기혈압', '이완기혈압', '요단백', '헤모글로빈', '공복혈당',\n",
       "       '총콜레스테롤', 'HDL', '중성지방', 'LDL', '혈청크레아티닌', '신사구체여과율', 'AST', 'ALT',\n",
       "       'GTP', '폐결핵흉부질환'],\n",
       "      dtype='object')"
      ]
     },
     "execution_count": 1287,
     "metadata": {},
     "output_type": "execute_result"
    }
   ],
   "source": [
    "data = pd.concat([prep_male, prep_female], axis= 'rows')\n",
    "data.columns"
   ]
  },
  {
   "cell_type": "code",
   "execution_count": 1288,
   "metadata": {},
   "outputs": [],
   "source": [
    "data = data[['검진 시 연령','키','체중', '허리둘레', 'BMI','수축기혈압', '이완기혈압']]"
   ]
  },
  {
   "cell_type": "code",
   "execution_count": 1289,
   "metadata": {},
   "outputs": [],
   "source": [
    "data.reset_index(inplace= True)"
   ]
  },
  {
   "cell_type": "code",
   "execution_count": 1290,
   "metadata": {},
   "outputs": [],
   "source": [
    "# 검진 시 연령, 허리둘레, BMI, 수축기혈압, 이완기혈압, 헤모글로빈, 공복혈당, 총콜레스테롤, HDL, LDL, 중성지방"
   ]
  },
  {
   "cell_type": "code",
   "execution_count": 1291,
   "metadata": {},
   "outputs": [],
   "source": [
    "data.rename(columns={'고유값':'일련번호'}, inplace=True)"
   ]
  },
  {
   "cell_type": "code",
   "execution_count": 1292,
   "metadata": {},
   "outputs": [
    {
     "data": {
      "text/html": [
       "<div>\n",
       "<style scoped>\n",
       "    .dataframe tbody tr th:only-of-type {\n",
       "        vertical-align: middle;\n",
       "    }\n",
       "\n",
       "    .dataframe tbody tr th {\n",
       "        vertical-align: top;\n",
       "    }\n",
       "\n",
       "    .dataframe thead th {\n",
       "        text-align: right;\n",
       "    }\n",
       "</style>\n",
       "<table border=\"1\" class=\"dataframe\">\n",
       "  <thead>\n",
       "    <tr style=\"text-align: right;\">\n",
       "      <th></th>\n",
       "      <th>일련번호</th>\n",
       "      <th>검진 시 연령</th>\n",
       "      <th>키</th>\n",
       "      <th>체중</th>\n",
       "      <th>허리둘레</th>\n",
       "      <th>BMI</th>\n",
       "      <th>수축기혈압</th>\n",
       "      <th>이완기혈압</th>\n",
       "    </tr>\n",
       "  </thead>\n",
       "  <tbody>\n",
       "    <tr>\n",
       "      <th>0</th>\n",
       "      <td>M0</td>\n",
       "      <td>34</td>\n",
       "      <td>174.0</td>\n",
       "      <td>64.0</td>\n",
       "      <td>72.0</td>\n",
       "      <td>21.1</td>\n",
       "      <td>130</td>\n",
       "      <td>80</td>\n",
       "    </tr>\n",
       "    <tr>\n",
       "      <th>1</th>\n",
       "      <td>M0</td>\n",
       "      <td>35</td>\n",
       "      <td>175.0</td>\n",
       "      <td>68.0</td>\n",
       "      <td>79.0</td>\n",
       "      <td>22.2</td>\n",
       "      <td>120</td>\n",
       "      <td>70</td>\n",
       "    </tr>\n",
       "    <tr>\n",
       "      <th>2</th>\n",
       "      <td>M0</td>\n",
       "      <td>36</td>\n",
       "      <td>175.0</td>\n",
       "      <td>68.0</td>\n",
       "      <td>76.0</td>\n",
       "      <td>22.2</td>\n",
       "      <td>120</td>\n",
       "      <td>70</td>\n",
       "    </tr>\n",
       "    <tr>\n",
       "      <th>3</th>\n",
       "      <td>M0</td>\n",
       "      <td>37</td>\n",
       "      <td>175.0</td>\n",
       "      <td>81.0</td>\n",
       "      <td>92.0</td>\n",
       "      <td>26.4</td>\n",
       "      <td>134</td>\n",
       "      <td>79</td>\n",
       "    </tr>\n",
       "    <tr>\n",
       "      <th>4</th>\n",
       "      <td>M0</td>\n",
       "      <td>38</td>\n",
       "      <td>175.0</td>\n",
       "      <td>86.0</td>\n",
       "      <td>96.0</td>\n",
       "      <td>28.1</td>\n",
       "      <td>137</td>\n",
       "      <td>83</td>\n",
       "    </tr>\n",
       "    <tr>\n",
       "      <th>...</th>\n",
       "      <td>...</td>\n",
       "      <td>...</td>\n",
       "      <td>...</td>\n",
       "      <td>...</td>\n",
       "      <td>...</td>\n",
       "      <td>...</td>\n",
       "      <td>...</td>\n",
       "      <td>...</td>\n",
       "    </tr>\n",
       "    <tr>\n",
       "      <th>1063</th>\n",
       "      <td>F30</td>\n",
       "      <td>45</td>\n",
       "      <td>154.0</td>\n",
       "      <td>54.0</td>\n",
       "      <td>75.0</td>\n",
       "      <td>22.8</td>\n",
       "      <td>109</td>\n",
       "      <td>67</td>\n",
       "    </tr>\n",
       "    <tr>\n",
       "      <th>1064</th>\n",
       "      <td>F30</td>\n",
       "      <td>46</td>\n",
       "      <td>154.0</td>\n",
       "      <td>55.0</td>\n",
       "      <td>70.0</td>\n",
       "      <td>23.2</td>\n",
       "      <td>118</td>\n",
       "      <td>68</td>\n",
       "    </tr>\n",
       "    <tr>\n",
       "      <th>1065</th>\n",
       "      <td>F30</td>\n",
       "      <td>47</td>\n",
       "      <td>153.6</td>\n",
       "      <td>54.2</td>\n",
       "      <td>69.0</td>\n",
       "      <td>23.0</td>\n",
       "      <td>119</td>\n",
       "      <td>68</td>\n",
       "    </tr>\n",
       "    <tr>\n",
       "      <th>1066</th>\n",
       "      <td>F30</td>\n",
       "      <td>48</td>\n",
       "      <td>153.2</td>\n",
       "      <td>54.7</td>\n",
       "      <td>75.8</td>\n",
       "      <td>23.3</td>\n",
       "      <td>112</td>\n",
       "      <td>74</td>\n",
       "    </tr>\n",
       "    <tr>\n",
       "      <th>1067</th>\n",
       "      <td>F30</td>\n",
       "      <td>49</td>\n",
       "      <td>153.6</td>\n",
       "      <td>53.7</td>\n",
       "      <td>75.5</td>\n",
       "      <td>22.8</td>\n",
       "      <td>129</td>\n",
       "      <td>78</td>\n",
       "    </tr>\n",
       "  </tbody>\n",
       "</table>\n",
       "<p>1068 rows × 8 columns</p>\n",
       "</div>"
      ],
      "text/plain": [
       "     일련번호  검진 시 연령      키    체중  허리둘레   BMI  수축기혈압  이완기혈압\n",
       "0      M0       34  174.0  64.0  72.0  21.1    130     80\n",
       "1      M0       35  175.0  68.0  79.0  22.2    120     70\n",
       "2      M0       36  175.0  68.0  76.0  22.2    120     70\n",
       "3      M0       37  175.0  81.0  92.0  26.4    134     79\n",
       "4      M0       38  175.0  86.0  96.0  28.1    137     83\n",
       "...   ...      ...    ...   ...   ...   ...    ...    ...\n",
       "1063  F30       45  154.0  54.0  75.0  22.8    109     67\n",
       "1064  F30       46  154.0  55.0  70.0  23.2    118     68\n",
       "1065  F30       47  153.6  54.2  69.0  23.0    119     68\n",
       "1066  F30       48  153.2  54.7  75.8  23.3    112     74\n",
       "1067  F30       49  153.6  53.7  75.5  22.8    129     78\n",
       "\n",
       "[1068 rows x 8 columns]"
      ]
     },
     "execution_count": 1292,
     "metadata": {},
     "output_type": "execute_result"
    }
   ],
   "source": [
    "data"
   ]
  },
  {
   "cell_type": "code",
   "execution_count": 1293,
   "metadata": {},
   "outputs": [
    {
     "name": "stdout",
     "output_type": "stream",
     "text": [
      "<class 'pandas.core.frame.DataFrame'>\n",
      "RangeIndex: 1068 entries, 0 to 1067\n",
      "Data columns (total 8 columns):\n",
      " #   Column   Non-Null Count  Dtype  \n",
      "---  ------   --------------  -----  \n",
      " 0   일련번호     1068 non-null   object \n",
      " 1   검진 시 연령  1068 non-null   int64  \n",
      " 2   키        1068 non-null   float64\n",
      " 3   체중       1068 non-null   float64\n",
      " 4   허리둘레     1067 non-null   float64\n",
      " 5   BMI      1068 non-null   float64\n",
      " 6   수축기혈압    1068 non-null   int64  \n",
      " 7   이완기혈압    1068 non-null   int64  \n",
      "dtypes: float64(4), int64(3), object(1)\n",
      "memory usage: 66.9+ KB\n"
     ]
    }
   ],
   "source": [
    "data.info()"
   ]
  },
  {
   "cell_type": "code",
   "execution_count": 1294,
   "metadata": {},
   "outputs": [
    {
     "data": {
      "text/plain": [
       "Index(['일련번호', '검진 시 연령', '키', '체중', '허리둘레', 'BMI', '수축기혈압', '이완기혈압'], dtype='object')"
      ]
     },
     "execution_count": 1294,
     "metadata": {},
     "output_type": "execute_result"
    }
   ],
   "source": [
    "data.columns"
   ]
  },
  {
   "cell_type": "code",
   "execution_count": 1295,
   "metadata": {},
   "outputs": [],
   "source": [
    "data.dropna(axis=0, inplace= True)"
   ]
  },
  {
   "cell_type": "code",
   "execution_count": 1296,
   "metadata": {},
   "outputs": [],
   "source": [
    "from sklearn.preprocessing import MinMaxScaler"
   ]
  },
  {
   "cell_type": "code",
   "execution_count": 1297,
   "metadata": {},
   "outputs": [
    {
     "name": "stdout",
     "output_type": "stream",
     "text": [
      "[[0.28888889 0.30327869 0.24590164 0.20725389 0.5        0.46774194]\n",
      " [0.31111111 0.3579235  0.36065574 0.2642487  0.375      0.30645161]\n",
      " [0.33333333 0.3579235  0.31147541 0.2642487  0.375      0.30645161]\n",
      " [0.35555556 0.53551913 0.57377049 0.48186528 0.55       0.4516129 ]\n",
      " [0.37777778 0.60382514 0.63934426 0.56994819 0.5875     0.51612903]\n",
      " [0.4        0.53551913 0.54098361 0.46632124 0.6        0.61290323]]\n",
      "(1067, 6)\n"
     ]
    }
   ],
   "source": [
    "# MinMaxScaling 실행\n",
    "minmaxscaler = MinMaxScaler()\n",
    "scaled_data = minmaxscaler.fit_transform(data[['검진 시 연령', '체중', '허리둘레', 'BMI', '수축기혈압', '이완기혈압']])\n",
    "print(scaled_data[:6])\n",
    "print(scaled_data.shape)"
   ]
  },
  {
   "cell_type": "code",
   "execution_count": 1298,
   "metadata": {},
   "outputs": [
    {
     "data": {
      "text/html": [
       "<div>\n",
       "<style scoped>\n",
       "    .dataframe tbody tr th:only-of-type {\n",
       "        vertical-align: middle;\n",
       "    }\n",
       "\n",
       "    .dataframe tbody tr th {\n",
       "        vertical-align: top;\n",
       "    }\n",
       "\n",
       "    .dataframe thead th {\n",
       "        text-align: right;\n",
       "    }\n",
       "</style>\n",
       "<table border=\"1\" class=\"dataframe\">\n",
       "  <thead>\n",
       "    <tr style=\"text-align: right;\">\n",
       "      <th></th>\n",
       "      <th>검진 시 연령</th>\n",
       "      <th>체중</th>\n",
       "      <th>허리둘레</th>\n",
       "      <th>BMI</th>\n",
       "      <th>수축기혈압</th>\n",
       "      <th>이완기혈압</th>\n",
       "    </tr>\n",
       "  </thead>\n",
       "  <tbody>\n",
       "    <tr>\n",
       "      <th>0</th>\n",
       "      <td>0.288889</td>\n",
       "      <td>0.303279</td>\n",
       "      <td>1.229508</td>\n",
       "      <td>1.036269</td>\n",
       "      <td>1.000</td>\n",
       "      <td>0.467742</td>\n",
       "    </tr>\n",
       "    <tr>\n",
       "      <th>1</th>\n",
       "      <td>0.311111</td>\n",
       "      <td>0.357923</td>\n",
       "      <td>1.803279</td>\n",
       "      <td>1.321244</td>\n",
       "      <td>0.750</td>\n",
       "      <td>0.306452</td>\n",
       "    </tr>\n",
       "    <tr>\n",
       "      <th>2</th>\n",
       "      <td>0.333333</td>\n",
       "      <td>0.357923</td>\n",
       "      <td>1.557377</td>\n",
       "      <td>1.321244</td>\n",
       "      <td>0.750</td>\n",
       "      <td>0.306452</td>\n",
       "    </tr>\n",
       "    <tr>\n",
       "      <th>3</th>\n",
       "      <td>0.355556</td>\n",
       "      <td>0.535519</td>\n",
       "      <td>2.868852</td>\n",
       "      <td>2.409326</td>\n",
       "      <td>1.100</td>\n",
       "      <td>0.451613</td>\n",
       "    </tr>\n",
       "    <tr>\n",
       "      <th>4</th>\n",
       "      <td>0.377778</td>\n",
       "      <td>0.603825</td>\n",
       "      <td>3.196721</td>\n",
       "      <td>2.849741</td>\n",
       "      <td>1.175</td>\n",
       "      <td>0.516129</td>\n",
       "    </tr>\n",
       "    <tr>\n",
       "      <th>...</th>\n",
       "      <td>...</td>\n",
       "      <td>...</td>\n",
       "      <td>...</td>\n",
       "      <td>...</td>\n",
       "      <td>...</td>\n",
       "      <td>...</td>\n",
       "    </tr>\n",
       "    <tr>\n",
       "      <th>1062</th>\n",
       "      <td>0.533333</td>\n",
       "      <td>0.166667</td>\n",
       "      <td>1.475410</td>\n",
       "      <td>1.476684</td>\n",
       "      <td>0.475</td>\n",
       "      <td>0.258065</td>\n",
       "    </tr>\n",
       "    <tr>\n",
       "      <th>1063</th>\n",
       "      <td>0.555556</td>\n",
       "      <td>0.180328</td>\n",
       "      <td>1.065574</td>\n",
       "      <td>1.580311</td>\n",
       "      <td>0.700</td>\n",
       "      <td>0.274194</td>\n",
       "    </tr>\n",
       "    <tr>\n",
       "      <th>1064</th>\n",
       "      <td>0.577778</td>\n",
       "      <td>0.169399</td>\n",
       "      <td>0.983607</td>\n",
       "      <td>1.528497</td>\n",
       "      <td>0.725</td>\n",
       "      <td>0.274194</td>\n",
       "    </tr>\n",
       "    <tr>\n",
       "      <th>1065</th>\n",
       "      <td>0.600000</td>\n",
       "      <td>0.176230</td>\n",
       "      <td>1.540984</td>\n",
       "      <td>1.606218</td>\n",
       "      <td>0.550</td>\n",
       "      <td>0.370968</td>\n",
       "    </tr>\n",
       "    <tr>\n",
       "      <th>1066</th>\n",
       "      <td>0.622222</td>\n",
       "      <td>0.162568</td>\n",
       "      <td>1.516393</td>\n",
       "      <td>1.476684</td>\n",
       "      <td>0.975</td>\n",
       "      <td>0.435484</td>\n",
       "    </tr>\n",
       "  </tbody>\n",
       "</table>\n",
       "<p>1067 rows × 6 columns</p>\n",
       "</div>"
      ],
      "text/plain": [
       "       검진 시 연령        체중      허리둘레       BMI  수축기혈압     이완기혈압\n",
       "0     0.288889  0.303279  1.229508  1.036269  1.000  0.467742\n",
       "1     0.311111  0.357923  1.803279  1.321244  0.750  0.306452\n",
       "2     0.333333  0.357923  1.557377  1.321244  0.750  0.306452\n",
       "3     0.355556  0.535519  2.868852  2.409326  1.100  0.451613\n",
       "4     0.377778  0.603825  3.196721  2.849741  1.175  0.516129\n",
       "...        ...       ...       ...       ...    ...       ...\n",
       "1062  0.533333  0.166667  1.475410  1.476684  0.475  0.258065\n",
       "1063  0.555556  0.180328  1.065574  1.580311  0.700  0.274194\n",
       "1064  0.577778  0.169399  0.983607  1.528497  0.725  0.274194\n",
       "1065  0.600000  0.176230  1.540984  1.606218  0.550  0.370968\n",
       "1066  0.622222  0.162568  1.516393  1.476684  0.975  0.435484\n",
       "\n",
       "[1067 rows x 6 columns]"
      ]
     },
     "execution_count": 1298,
     "metadata": {},
     "output_type": "execute_result"
    }
   ],
   "source": [
    "scaled_data_df = pd.DataFrame(scaled_data, columns=['검진 시 연령', '체중', '허리둘레', 'BMI', '수축기혈압', '이완기혈압'])\n",
    "\n",
    "scaled_data_df['허리둘레'] = scaled_data_df['허리둘레'] * 5\n",
    "scaled_data_df['수축기혈압'] = scaled_data_df['수축기혈압'] * 2\n",
    "# scaled_data_df['이완기혈압'] = scaled_data_df['이완기혈압'] * 2\n",
    "scaled_data_df['BMI'] = scaled_data_df['BMI'] * 5\n",
    "\n",
    "scaled_data_df"
   ]
  },
  {
   "cell_type": "code",
   "execution_count": 1299,
   "metadata": {},
   "outputs": [],
   "source": [
    "sequence_X = []\n",
    "sequence_Y = []\n",
    "for i in range(0, len(scaled_data_df) - 4):\n",
    "    _x = scaled_data[i : i + 4]\n",
    "    _y = scaled_data[i + 4][4]\n",
    "    sequence_X.append(_x)\n",
    "    sequence_Y.append(_y)"
   ]
  },
  {
   "cell_type": "code",
   "execution_count": 1300,
   "metadata": {},
   "outputs": [
    {
     "name": "stdout",
     "output_type": "stream",
     "text": [
      "(1063, 4, 6)\n",
      "(1063,)\n"
     ]
    }
   ],
   "source": [
    "sequence_X = np.array(sequence_X)\n",
    "sequence_Y = np.array(sequence_Y)\n",
    "print(sequence_X.shape)\n",
    "print(sequence_Y.shape)"
   ]
  },
  {
   "cell_type": "code",
   "execution_count": 1301,
   "metadata": {},
   "outputs": [],
   "source": [
    "from sklearn.model_selection import train_test_split"
   ]
  },
  {
   "cell_type": "code",
   "execution_count": 1302,
   "metadata": {},
   "outputs": [
    {
     "data": {
      "text/plain": [
       "((850, 4, 6), (213, 4, 6), (850,))"
      ]
     },
     "execution_count": 1302,
     "metadata": {},
     "output_type": "execute_result"
    }
   ],
   "source": [
    "X_train, X_test, Y_train, Y_test = train_test_split(sequence_X, sequence_Y, test_size = 0.2, random_state = 77)\n",
    "X_train.shape, X_test.shape, Y_train.shape"
   ]
  },
  {
   "cell_type": "code",
   "execution_count": 1303,
   "metadata": {},
   "outputs": [
    {
     "name": "stdout",
     "output_type": "stream",
     "text": [
      "Model: \"sequential_60\"\n",
      "_________________________________________________________________\n",
      "Layer (type)                 Output Shape              Param #   \n",
      "=================================================================\n",
      "lstm_182 (LSTM)              (None, 500)               1014000   \n",
      "_________________________________________________________________\n",
      "flatten_59 (Flatten)         (None, 500)               0         \n",
      "_________________________________________________________________\n",
      "dense_84 (Dense)             (None, 1)                 501       \n",
      "=================================================================\n",
      "Total params: 1,014,501\n",
      "Trainable params: 1,014,501\n",
      "Non-trainable params: 0\n",
      "_________________________________________________________________\n"
     ]
    }
   ],
   "source": [
    "model = Sequential()\n",
    "model.add(LSTM(500, input_shape = (X_train.shape[1], X_train.shape[2]), activation= 'tanh'))\n",
    "model.add(Flatten())\n",
    "model.add(Dense(1))\n",
    "model.compile(loss= 'mse', optimizer= 'adam')\n",
    "early_stop = keras.callbacks.EarlyStopping(monitor= 'val_loss', patience= 10)\n",
    "model.summary()"
   ]
  },
  {
   "cell_type": "code",
   "execution_count": 1304,
   "metadata": {},
   "outputs": [],
   "source": [
    "# model = Sequential()\n",
    "# model.add(LSTM(128, input_shape=(X_train.shape[1], X_train.shape[2]), activation='tanh', return_sequences=True))\n",
    "# model.add(LSTM(128, input_shape=(X_train.shape[1], X_train.shape[2]), activation='tanh', return_sequences=True))\n",
    "# model.add(LSTM(128, input_shape=(X_train.shape[1], X_train.shape[2]), activation='tanh', return_sequences=True))\n",
    "# model.add(Dropout(0.3))\n",
    "# model.add(LSTM(64, activation='tanh', return_sequences=True))\n",
    "# model.add(LSTM(64, activation='tanh', return_sequences=True))\n",
    "# model.add(LSTM(64, activation='tanh', return_sequences=True))\n",
    "# model.add(LSTM(64, activation='tanh', return_sequences=True))\n",
    "# model.add(Dropout(0.3))\n",
    "\n",
    "# model.add(LSTM(64, activation='tanh', return_sequences=True))\n",
    "# model.add(LSTM(64, activation='tanh', return_sequences=False))\n",
    "\n",
    "# model.add(Flatten())\n",
    "# model.add(Dense(32, activation='relu'))\n",
    "# model.add(Dense(1))\n",
    "# model.compile(loss='mse', optimizer='adam')\n",
    "# model.summary()"
   ]
  },
  {
   "cell_type": "code",
   "execution_count": 1305,
   "metadata": {},
   "outputs": [],
   "source": [
    "early_stop = keras.callbacks.EarlyStopping(monitor = 'val_loss', patience= 20)"
   ]
  },
  {
   "cell_type": "code",
   "execution_count": 1306,
   "metadata": {
    "scrolled": true
   },
   "outputs": [
    {
     "name": "stdout",
     "output_type": "stream",
     "text": [
      "Train on 850 samples, validate on 213 samples\n",
      "Epoch 1/500\n",
      "850/850 [==============================] - 2s 3ms/sample - loss: 0.1108 - val_loss: 0.0725\n",
      "Epoch 2/500\n",
      "850/850 [==============================] - 1s 623us/sample - loss: 0.0786 - val_loss: 0.0710\n",
      "Epoch 3/500\n",
      "850/850 [==============================] - 1s 624us/sample - loss: 0.0791 - val_loss: 0.0730\n",
      "Epoch 4/500\n",
      "850/850 [==============================] - 1s 624us/sample - loss: 0.0777 - val_loss: 0.0743\n",
      "Epoch 5/500\n",
      "850/850 [==============================] - 1s 627us/sample - loss: 0.0759 - val_loss: 0.0735\n",
      "Epoch 6/500\n",
      "850/850 [==============================] - 1s 624us/sample - loss: 0.0747 - val_loss: 0.0726\n",
      "Epoch 7/500\n",
      "850/850 [==============================] - 1s 625us/sample - loss: 0.0740 - val_loss: 0.0722\n",
      "Epoch 8/500\n",
      "850/850 [==============================] - 1s 623us/sample - loss: 0.0735 - val_loss: 0.0719\n",
      "Epoch 9/500\n",
      "850/850 [==============================] - 1s 642us/sample - loss: 0.0731 - val_loss: 0.0716\n",
      "Epoch 10/500\n",
      "850/850 [==============================] - 1s 664us/sample - loss: 0.0727 - val_loss: 0.0714\n",
      "Epoch 11/500\n",
      "850/850 [==============================] - 1s 639us/sample - loss: 0.0725 - val_loss: 0.0712\n",
      "Epoch 12/500\n",
      "850/850 [==============================] - 1s 625us/sample - loss: 0.0723 - val_loss: 0.0711\n",
      "Epoch 13/500\n",
      "850/850 [==============================] - 1s 625us/sample - loss: 0.0721 - val_loss: 0.0710\n",
      "Epoch 14/500\n",
      "850/850 [==============================] - 1s 624us/sample - loss: 0.0719 - val_loss: 0.0709\n",
      "Epoch 15/500\n",
      "850/850 [==============================] - 1s 627us/sample - loss: 0.0718 - val_loss: 0.0709\n",
      "Epoch 16/500\n",
      "850/850 [==============================] - 1s 629us/sample - loss: 0.0717 - val_loss: 0.0709\n",
      "Epoch 17/500\n",
      "850/850 [==============================] - 1s 622us/sample - loss: 0.0716 - val_loss: 0.0709\n",
      "Epoch 18/500\n",
      "850/850 [==============================] - 1s 625us/sample - loss: 0.0715 - val_loss: 0.0708\n",
      "Epoch 19/500\n",
      "850/850 [==============================] - 1s 631us/sample - loss: 0.0714 - val_loss: 0.0708\n",
      "Epoch 20/500\n",
      "850/850 [==============================] - 1s 666us/sample - loss: 0.0714 - val_loss: 0.0708\n",
      "Epoch 21/500\n",
      "850/850 [==============================] - 1s 664us/sample - loss: 0.0713 - val_loss: 0.0708\n",
      "Epoch 22/500\n",
      "850/850 [==============================] - 1s 630us/sample - loss: 0.0712 - val_loss: 0.0709\n",
      "Epoch 23/500\n",
      "850/850 [==============================] - 1s 618us/sample - loss: 0.0712 - val_loss: 0.0709\n",
      "Epoch 24/500\n",
      "850/850 [==============================] - 1s 624us/sample - loss: 0.0711 - val_loss: 0.0709\n",
      "Epoch 25/500\n",
      "850/850 [==============================] - 1s 630us/sample - loss: 0.0711 - val_loss: 0.0709\n",
      "Epoch 26/500\n",
      "850/850 [==============================] - 1s 631us/sample - loss: 0.0710 - val_loss: 0.0709\n",
      "Epoch 27/500\n",
      "850/850 [==============================] - 1s 625us/sample - loss: 0.0710 - val_loss: 0.0709\n",
      "Epoch 28/500\n",
      "850/850 [==============================] - 1s 628us/sample - loss: 0.0709 - val_loss: 0.0710\n",
      "Epoch 29/500\n",
      "850/850 [==============================] - 1s 624us/sample - loss: 0.0709 - val_loss: 0.0710\n",
      "Epoch 30/500\n",
      "850/850 [==============================] - 1s 632us/sample - loss: 0.0708 - val_loss: 0.0710\n",
      "Epoch 31/500\n",
      "850/850 [==============================] - 1s 623us/sample - loss: 0.0708 - val_loss: 0.0711\n",
      "Epoch 32/500\n",
      "850/850 [==============================] - 1s 672us/sample - loss: 0.0707 - val_loss: 0.0711\n",
      "Epoch 33/500\n",
      "850/850 [==============================] - 1s 648us/sample - loss: 0.0707 - val_loss: 0.0711\n",
      "Epoch 34/500\n",
      "850/850 [==============================] - ETA: 0s - loss: 0.069 - 1s 622us/sample - loss: 0.0706 - val_loss: 0.0711\n",
      "Epoch 35/500\n",
      "850/850 [==============================] - 1s 627us/sample - loss: 0.0706 - val_loss: 0.0711\n",
      "Epoch 36/500\n",
      "850/850 [==============================] - 1s 622us/sample - loss: 0.0705 - val_loss: 0.0711\n",
      "Epoch 37/500\n",
      "850/850 [==============================] - 1s 631us/sample - loss: 0.0704 - val_loss: 0.0711\n",
      "Epoch 38/500\n",
      "850/850 [==============================] - ETA: 0s - loss: 0.069 - 1s 642us/sample - loss: 0.0703 - val_loss: 0.0711\n",
      "Epoch 39/500\n",
      "850/850 [==============================] - 1s 632us/sample - loss: 0.0702 - val_loss: 0.0711\n"
     ]
    }
   ],
   "source": [
    "fit_hist = model.fit(X_train, Y_train, epochs = 500, validation_data= (X_test, Y_test), shuffle= False, callbacks= [early_stop])"
   ]
  },
  {
   "cell_type": "code",
   "execution_count": 1307,
   "metadata": {},
   "outputs": [
    {
     "data": {
      "image/png": "[encoded data removed]",
      "text/plain": [
       "<Figure size 432x288 with 1 Axes>"
      ]
     },
     "metadata": {
      "needs_background": "light"
     },
     "output_type": "display_data"
    }
   ],
   "source": [
    "plt.plot(fit_hist.history['loss'], label= 'loss')\n",
    "plt.plot(fit_hist.history['val_loss'], label= 'val_loss')\n",
    "plt.legend()\n",
    "plt.grid()\n",
    "plt.show()"
   ]
  },
  {
   "cell_type": "code",
   "execution_count": 1308,
   "metadata": {},
   "outputs": [],
   "source": [
    "predict = model.predict(X_test)"
   ]
  },
  {
   "cell_type": "code",
   "execution_count": 1309,
   "metadata": {},
   "outputs": [
    {
     "data": {
      "image/png": "[encoded data removed]",
      "text/plain": [
       "<Figure size 504x360 with 1 Axes>"
      ]
     },
     "metadata": {
      "needs_background": "light"
     },
     "output_type": "display_data"
    }
   ],
   "source": [
    "fig = plt.figure(figsize = (7,5))\n",
    "plt.plot(Y_test[-20:], label= 'actual')\n",
    "plt.plot(predict[-20:], label= 'predict')\n",
    "plt.legend()\n",
    "plt.show()"
   ]
  },
  {
   "cell_type": "code",
   "execution_count": 1310,
   "metadata": {},
   "outputs": [],
   "source": [
    "fig.savefig('../datasets/bp_graph/4개씩_BMI가중치5배_허리가중치5배_수축기혈압2배.png')"
   ]
  }
 ],
 "metadata": {
  "kernelspec": {
   "display_name": "Python 3",
   "language": "python",
   "name": "python3"
  },
  "language_info": {
   "codemirror_mode": {
    "name": "ipython",
    "version": 3
   },
   "file_extension": ".py",
   "mimetype": "text/x-python",
   "name": "python",
   "nbconvert_exporter": "python",
   "pygments_lexer": "ipython3",
   "version": "3.7.7"
  }
 },
 "nbformat": 4,
 "nbformat_minor": 4
}
